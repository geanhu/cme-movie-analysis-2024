{
 "cells": [
  {
   "cell_type": "code",
   "execution_count": null,
   "metadata": {
    "execution": {
     "iopub.execute_input": "2024-02-10T03:13:53.763896Z",
     "iopub.status.busy": "2024-02-10T03:13:53.763705Z",
     "iopub.status.idle": "2024-02-10T03:13:53.772459Z",
     "shell.execute_reply": "2024-02-10T03:13:53.771353Z"
    }
   },
   "outputs": [],
   "source": [
    "# by Joh Schoeneberg and Jonathan Kuo 2020"
   ]
  },
  {
   "cell_type": "code",
   "execution_count": null,
   "metadata": {
    "execution": {
     "iopub.execute_input": "2024-02-10T03:13:53.775494Z",
     "iopub.status.busy": "2024-02-10T03:13:53.775310Z",
     "iopub.status.idle": "2024-02-10T03:14:24.611068Z",
     "shell.execute_reply": "2024-02-10T03:14:24.610547Z"
    }
   },
   "outputs": [],
   "source": [
    "# Import libraries and modules\n",
    "import numpy as np\n",
    "import time, os, sys\n",
    "from urllib.parse import urlparse\n",
    "import skimage.io\n",
    "import matplotlib.pyplot as plt\n",
    "import matplotlib as mpl\n",
    "%matplotlib inline\n",
    "mpl.rcParams['figure.dpi'] = 300\n",
    "from cellpose import utils, io\n",
    "from cellpose import models, plot\n",
    "import cv2, glob\n",
    "from math import pi\n",
    "import skimage"
   ]
  },
  {
   "cell_type": "markdown",
   "metadata": {},
   "source": [
    "## IMAGE FOLDER PIPELINE"
   ]
  },
  {
   "cell_type": "markdown",
   "metadata": {},
   "source": [
    "### Loading in Data"
   ]
  },
  {
   "cell_type": "code",
   "execution_count": null,
   "metadata": {
    "execution": {
     "iopub.execute_input": "2024-02-10T03:14:24.614415Z",
     "iopub.status.busy": "2024-02-10T03:14:24.614104Z",
     "iopub.status.idle": "2024-02-10T03:14:24.839498Z",
     "shell.execute_reply": "2024-02-10T03:14:24.839044Z"
    }
   },
   "outputs": [],
   "source": [
    "### YOUR FOLDERNAME GOES INTO THE RED TEXT BELOW\n",
    "### Make sure the folder path ends with a \"/\"\n",
    "folder_path = \"path-to-Cellpose-input\" # FOLDERNAME GOES HERE\n",
    "os.chdir(folder_path)\n",
    "folder_files = []\n",
    "original_filenames = []\n",
    "\n",
    "for filename in os.listdir(os.getcwd()):\n",
    "    if \".tif\" in filename and \"._\" not in filename: \n",
    "        folder_files = np.append(folder_files, filename)\n",
    "        original_filenames = np.append(original_filenames, filename)\n",
    "files = [folder_path + path for path in folder_files]\n",
    "\n",
    "imgs = [skimage.io.imread(f) for f in files]\n",
    "nimg = len(imgs)\n",
    "\n",
    "print(nimg) #check printed number below for number of images that cellpose will process\n",
    "\n",
    "# IF YOU WANT TO SEE YOUR IMAGES, UNCOMMENT BELOW - !keep uncommented for faster speed\n",
    "#plt.figure(figsize=(12,4))\n",
    "#for k,img in enumerate(imgs):\n",
    "    #plt.subplot(1,3,k+1)\n",
    "    #plt.imshow(img)"
   ]
  },
  {
   "cell_type": "code",
   "execution_count": null,
   "metadata": {
    "execution": {
     "iopub.execute_input": "2024-02-10T03:14:24.864981Z",
     "iopub.status.busy": "2024-02-10T03:14:24.864735Z",
     "iopub.status.idle": "2024-02-10T03:19:22.807842Z",
     "shell.execute_reply": "2024-02-10T03:19:22.807325Z"
    }
   },
   "outputs": [],
   "source": [
    "# model_type='cyto' or model_type='nuclei'\n",
    "model = models.Cellpose(gpu=True, model_type='cyto')\n",
    "\n",
    "if (nimg == 1):\n",
    "    channels = [[0,0]]\n",
    "else:\n",
    "    channels = [0,0]\n",
    "\n",
    "# set diameter parameter = <expected cell diameter in pixels>\n",
    "masks, flows, styles, diams = model.eval(imgs, diameter=40, channels=channels)\n",
    "print(\"Cellpose finished . . . Saving in progress\")"
   ]
  },
  {
   "cell_type": "code",
   "execution_count": null,
   "metadata": {
    "execution": {
     "iopub.execute_input": "2024-02-10T03:19:22.811376Z",
     "iopub.status.busy": "2024-02-10T03:19:22.811103Z",
     "iopub.status.idle": "2024-02-10T03:19:26.125261Z",
     "shell.execute_reply": "2024-02-10T03:19:26.124612Z"
    }
   },
   "outputs": [],
   "source": [
    "save_folder_path = \"path-to-cellpose-output\" #Again, make sure this ends with a \"/\"\n",
    "\n",
    "os.chdir(save_folder_path)\n",
    "for image in np.arange(nimg):\n",
    "    plt.imshow(masks[image]) ##Will only show one image at a time, but will save all images!\n",
    "    skimage.io.imsave(save_folder_path + original_filenames[image][:-4] + \"_mask.tif\", masks[image])\n",
    "\n",
    "print(\"Images saved!\")"
   ]
  }
 ],
 "metadata": {
  "kernelspec": {
   "display_name": "Python 3 (ipykernel)",
   "language": "python",
   "name": "python3"
  },
  "language_info": {
   "codemirror_mode": {
    "name": "ipython",
    "version": 3
   },
   "file_extension": ".py",
   "mimetype": "text/x-python",
   "name": "python",
   "nbconvert_exporter": "python",
   "pygments_lexer": "ipython3",
   "version": "3.11.4"
  },
  "varInspector": {
   "cols": {
    "lenName": 16,
    "lenType": 16,
    "lenVar": 40
   },
   "kernels_config": {
    "python": {
     "delete_cmd_postfix": "",
     "delete_cmd_prefix": "del ",
     "library": "var_list.py",
     "varRefreshCmd": "print(var_dic_list())"
    },
    "r": {
     "delete_cmd_postfix": ") ",
     "delete_cmd_prefix": "rm(",
     "library": "var_list.r",
     "varRefreshCmd": "cat(var_dic_list()) "
    }
   },
   "types_to_exclude": [
    "module",
    "function",
    "builtin_function_or_method",
    "instance",
    "_Feature"
   ],
   "window_display": false
  }
 },
 "nbformat": 4,
 "nbformat_minor": 4
}
